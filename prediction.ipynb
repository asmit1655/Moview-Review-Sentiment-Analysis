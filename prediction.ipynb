{
 "cells": [
  {
   "cell_type": "code",
   "execution_count": 25,
   "id": "26bb06e3",
   "metadata": {},
   "outputs": [],
   "source": [
    "# Step 1: Import Libraries and Load the Model\n",
    "import numpy as np\n",
    "import tensorflow as tf\n",
    "from tensorflow.keras.datasets import imdb\n",
    "from tensorflow.keras.preprocessing import sequence\n",
    "from tensorflow.keras.models import load_model"
   ]
  },
  {
   "cell_type": "code",
   "execution_count": 26,
   "id": "344d8efa",
   "metadata": {},
   "outputs": [],
   "source": [
    "# Load the IMDB dataset word index\n",
    "word_index = imdb.get_word_index()\n",
    "reverse_word_index = {value: key for key, value in word_index.items()}"
   ]
  },
  {
   "cell_type": "code",
   "execution_count": 27,
   "id": "37d8543b",
   "metadata": {},
   "outputs": [
    {
     "name": "stderr",
     "output_type": "stream",
     "text": [
      "WARNING:absl:Compiled the loaded model, but the compiled metrics have yet to be built. `model.compile_metrics` will be empty until you train or evaluate the model.\n"
     ]
    },
    {
     "data": {
      "text/html": [
       "<pre style=\"white-space:pre;overflow-x:auto;line-height:normal;font-family:Menlo,'DejaVu Sans Mono',consolas,'Courier New',monospace\"><span style=\"font-weight: bold\">Model: \"sequential_7\"</span>\n",
       "</pre>\n"
      ],
      "text/plain": [
       "\u001b[1mModel: \"sequential_7\"\u001b[0m\n"
      ]
     },
     "metadata": {},
     "output_type": "display_data"
    },
    {
     "data": {
      "text/html": [
       "<pre style=\"white-space:pre;overflow-x:auto;line-height:normal;font-family:Menlo,'DejaVu Sans Mono',consolas,'Courier New',monospace\">┏━━━━━━━━━━━━━━━━━━━━━━━━━━━━━━━━━┳━━━━━━━━━━━━━━━━━━━━━━━━┳━━━━━━━━━━━━━━━┓\n",
       "┃<span style=\"font-weight: bold\"> Layer (type)                    </span>┃<span style=\"font-weight: bold\"> Output Shape           </span>┃<span style=\"font-weight: bold\">       Param # </span>┃\n",
       "┡━━━━━━━━━━━━━━━━━━━━━━━━━━━━━━━━━╇━━━━━━━━━━━━━━━━━━━━━━━━╇━━━━━━━━━━━━━━━┩\n",
       "│ embedding_6 (<span style=\"color: #0087ff; text-decoration-color: #0087ff\">Embedding</span>)         │ (<span style=\"color: #00d7ff; text-decoration-color: #00d7ff\">None</span>, <span style=\"color: #00af00; text-decoration-color: #00af00\">500</span>, <span style=\"color: #00af00; text-decoration-color: #00af00\">128</span>)       │     <span style=\"color: #00af00; text-decoration-color: #00af00\">1,280,000</span> │\n",
       "├─────────────────────────────────┼────────────────────────┼───────────────┤\n",
       "│ simple_rnn_4 (<span style=\"color: #0087ff; text-decoration-color: #0087ff\">SimpleRNN</span>)        │ (<span style=\"color: #00d7ff; text-decoration-color: #00d7ff\">None</span>, <span style=\"color: #00af00; text-decoration-color: #00af00\">128</span>)            │        <span style=\"color: #00af00; text-decoration-color: #00af00\">32,896</span> │\n",
       "├─────────────────────────────────┼────────────────────────┼───────────────┤\n",
       "│ dense_4 (<span style=\"color: #0087ff; text-decoration-color: #0087ff\">Dense</span>)                 │ (<span style=\"color: #00d7ff; text-decoration-color: #00d7ff\">None</span>, <span style=\"color: #00af00; text-decoration-color: #00af00\">1</span>)              │           <span style=\"color: #00af00; text-decoration-color: #00af00\">129</span> │\n",
       "└─────────────────────────────────┴────────────────────────┴───────────────┘\n",
       "</pre>\n"
      ],
      "text/plain": [
       "┏━━━━━━━━━━━━━━━━━━━━━━━━━━━━━━━━━┳━━━━━━━━━━━━━━━━━━━━━━━━┳━━━━━━━━━━━━━━━┓\n",
       "┃\u001b[1m \u001b[0m\u001b[1mLayer (type)                   \u001b[0m\u001b[1m \u001b[0m┃\u001b[1m \u001b[0m\u001b[1mOutput Shape          \u001b[0m\u001b[1m \u001b[0m┃\u001b[1m \u001b[0m\u001b[1m      Param #\u001b[0m\u001b[1m \u001b[0m┃\n",
       "┡━━━━━━━━━━━━━━━━━━━━━━━━━━━━━━━━━╇━━━━━━━━━━━━━━━━━━━━━━━━╇━━━━━━━━━━━━━━━┩\n",
       "│ embedding_6 (\u001b[38;5;33mEmbedding\u001b[0m)         │ (\u001b[38;5;45mNone\u001b[0m, \u001b[38;5;34m500\u001b[0m, \u001b[38;5;34m128\u001b[0m)       │     \u001b[38;5;34m1,280,000\u001b[0m │\n",
       "├─────────────────────────────────┼────────────────────────┼───────────────┤\n",
       "│ simple_rnn_4 (\u001b[38;5;33mSimpleRNN\u001b[0m)        │ (\u001b[38;5;45mNone\u001b[0m, \u001b[38;5;34m128\u001b[0m)            │        \u001b[38;5;34m32,896\u001b[0m │\n",
       "├─────────────────────────────────┼────────────────────────┼───────────────┤\n",
       "│ dense_4 (\u001b[38;5;33mDense\u001b[0m)                 │ (\u001b[38;5;45mNone\u001b[0m, \u001b[38;5;34m1\u001b[0m)              │           \u001b[38;5;34m129\u001b[0m │\n",
       "└─────────────────────────────────┴────────────────────────┴───────────────┘\n"
      ]
     },
     "metadata": {},
     "output_type": "display_data"
    },
    {
     "data": {
      "text/html": [
       "<pre style=\"white-space:pre;overflow-x:auto;line-height:normal;font-family:Menlo,'DejaVu Sans Mono',consolas,'Courier New',monospace\"><span style=\"font-weight: bold\"> Total params: </span><span style=\"color: #00af00; text-decoration-color: #00af00\">1,313,027</span> (5.01 MB)\n",
       "</pre>\n"
      ],
      "text/plain": [
       "\u001b[1m Total params: \u001b[0m\u001b[38;5;34m1,313,027\u001b[0m (5.01 MB)\n"
      ]
     },
     "metadata": {},
     "output_type": "display_data"
    },
    {
     "data": {
      "text/html": [
       "<pre style=\"white-space:pre;overflow-x:auto;line-height:normal;font-family:Menlo,'DejaVu Sans Mono',consolas,'Courier New',monospace\"><span style=\"font-weight: bold\"> Trainable params: </span><span style=\"color: #00af00; text-decoration-color: #00af00\">1,313,025</span> (5.01 MB)\n",
       "</pre>\n"
      ],
      "text/plain": [
       "\u001b[1m Trainable params: \u001b[0m\u001b[38;5;34m1,313,025\u001b[0m (5.01 MB)\n"
      ]
     },
     "metadata": {},
     "output_type": "display_data"
    },
    {
     "data": {
      "text/html": [
       "<pre style=\"white-space:pre;overflow-x:auto;line-height:normal;font-family:Menlo,'DejaVu Sans Mono',consolas,'Courier New',monospace\"><span style=\"font-weight: bold\"> Non-trainable params: </span><span style=\"color: #00af00; text-decoration-color: #00af00\">0</span> (0.00 B)\n",
       "</pre>\n"
      ],
      "text/plain": [
       "\u001b[1m Non-trainable params: \u001b[0m\u001b[38;5;34m0\u001b[0m (0.00 B)\n"
      ]
     },
     "metadata": {},
     "output_type": "display_data"
    },
    {
     "data": {
      "text/html": [
       "<pre style=\"white-space:pre;overflow-x:auto;line-height:normal;font-family:Menlo,'DejaVu Sans Mono',consolas,'Courier New',monospace\"><span style=\"font-weight: bold\"> Optimizer params: </span><span style=\"color: #00af00; text-decoration-color: #00af00\">2</span> (12.00 B)\n",
       "</pre>\n"
      ],
      "text/plain": [
       "\u001b[1m Optimizer params: \u001b[0m\u001b[38;5;34m2\u001b[0m (12.00 B)\n"
      ]
     },
     "metadata": {},
     "output_type": "display_data"
    }
   ],
   "source": [
    "# Load the pre-trained model with ReLU activation\n",
    "model = load_model('simple_rnn_imdb.h5')\n",
    "model.summary()"
   ]
  },
  {
   "cell_type": "code",
   "execution_count": 28,
   "id": "1792db5f",
   "metadata": {},
   "outputs": [
    {
     "data": {
      "text/plain": [
       "[array([[-0.33966184,  1.5142405 ,  1.9093512 , ..., -1.5188414 ,\n",
       "         -1.4260573 ,  1.7271891 ],\n",
       "        [-0.02154411,  0.09127904, -0.02873247, ..., -0.0218996 ,\n",
       "         -0.00607387,  0.03155454],\n",
       "        [ 0.1939433 ,  0.01598806,  0.22401841, ..., -0.08642448,\n",
       "          0.03574929,  0.0997537 ],\n",
       "        ...,\n",
       "        [ 0.05198288, -0.07722272, -0.04876492, ..., -0.05185238,\n",
       "         -0.03235698,  0.00420207],\n",
       "        [-0.03136161,  0.05781781,  0.05816781, ...,  0.0196572 ,\n",
       "          0.01282078,  0.02750496],\n",
       "        [ 0.06016483, -0.02418679, -0.05142447, ...,  0.02958245,\n",
       "          0.04385986,  0.03432044]], dtype=float32),\n",
       " array([[-0.115903  , -0.02232155, -0.21386057, ..., -0.20926818,\n",
       "         -0.0381817 , -0.06210019],\n",
       "        [ 0.0549295 , -0.02365807, -0.12515873, ..., -0.07453316,\n",
       "          0.08771805, -0.11945488],\n",
       "        [-0.0570126 ,  0.05709638, -0.13289706, ..., -0.00122474,\n",
       "         -0.10206274, -0.16189508],\n",
       "        ...,\n",
       "        [ 0.04587759,  0.14151694,  0.07782521, ..., -0.11973022,\n",
       "         -0.01884956,  0.13971445],\n",
       "        [-0.05652618,  0.0136235 ,  0.07169043, ...,  0.12336174,\n",
       "          0.05868201,  0.05540521],\n",
       "        [-0.08756117, -0.11691173, -0.0068927 , ...,  0.04283538,\n",
       "          0.02505784, -0.03520849]], dtype=float32),\n",
       " array([[-0.1131104 ,  0.10013589,  0.11363817, ...,  0.07995857,\n",
       "          0.0779226 ,  0.08567854],\n",
       "        [-0.17533581, -0.04480225, -0.0227778 , ...,  0.05703676,\n",
       "         -0.09943273,  0.04019961],\n",
       "        [-0.03952184, -0.05271603, -0.10553516, ...,  0.06916919,\n",
       "         -0.01069052, -0.02761326],\n",
       "        ...,\n",
       "        [-0.15785378,  0.08891838, -0.14574866, ..., -0.10840008,\n",
       "          0.04783196, -0.10049087],\n",
       "        [ 0.08331283, -0.14903964, -0.00828052, ...,  0.04076904,\n",
       "         -0.06669561,  0.0769145 ],\n",
       "        [-0.07527642,  0.05472328,  0.02174036, ...,  0.01692093,\n",
       "         -0.17419577,  0.1735602 ]], dtype=float32),\n",
       " array([-3.47634102e-03,  3.75159308e-02, -2.70980708e-02,  4.56541553e-02,\n",
       "         4.05989774e-02, -1.23857874e-02, -2.95000151e-02, -1.19760819e-02,\n",
       "        -3.54558676e-02,  3.50841209e-02, -1.08906869e-02, -2.13063415e-02,\n",
       "        -3.72012667e-02,  3.20539549e-02, -1.48787228e-02, -2.47705970e-02,\n",
       "        -1.87506471e-02, -1.90681648e-02, -2.96291187e-02, -4.50428901e-03,\n",
       "        -1.20455970e-03, -2.30544060e-02,  3.64798424e-03, -2.16316842e-02,\n",
       "        -1.09963268e-02, -6.22429838e-03,  6.19066739e-03, -2.74692811e-02,\n",
       "        -1.61428973e-02, -3.03443987e-02,  2.74230298e-02,  1.31831197e-02,\n",
       "         6.36754930e-02, -3.85068357e-02, -8.07915628e-03, -2.41447855e-02,\n",
       "         1.03719404e-03,  1.48887839e-02, -1.85758900e-02, -1.55038051e-02,\n",
       "        -4.51448932e-02, -3.25721167e-02, -2.15442795e-02,  4.52836864e-02,\n",
       "         3.81412916e-02, -1.15457634e-02,  6.52158540e-03, -3.94695215e-02,\n",
       "         3.82532701e-02, -2.07306426e-02, -1.17831081e-02, -2.99183168e-02,\n",
       "        -1.18438415e-02,  1.25002477e-03, -4.55816016e-02, -1.48011660e-02,\n",
       "         2.22204509e-03,  1.58621073e-02, -2.74188202e-02, -4.38663028e-02,\n",
       "        -2.62034424e-02, -6.90022018e-03, -2.65700128e-02,  1.40037816e-02,\n",
       "        -1.89118534e-02,  4.17911038e-02, -1.68053117e-02,  3.06936745e-02,\n",
       "         3.91530478e-03,  5.59598580e-03,  1.84325781e-02,  1.01660473e-04,\n",
       "         6.65107835e-03,  1.62775312e-02, -5.56241497e-02,  5.10526858e-02,\n",
       "        -1.95866264e-02, -2.10100133e-02,  1.54446147e-03, -7.70142581e-03,\n",
       "         6.87471256e-02,  2.90978793e-03,  1.04129333e-02, -2.21044626e-02,\n",
       "        -3.26344296e-02, -5.25155105e-03,  3.31933051e-03, -1.87094640e-02,\n",
       "        -2.12451052e-02,  9.41284743e-05, -1.19196083e-02,  9.97518096e-03,\n",
       "        -3.64777981e-03, -1.72186475e-02, -7.19717145e-02, -1.73608158e-02,\n",
       "        -1.08980772e-03, -4.75442521e-02,  1.43515002e-02,  5.84796518e-02,\n",
       "        -4.97421995e-02, -1.16145285e-03,  5.54554164e-02, -5.86098284e-02,\n",
       "        -3.78003120e-02,  4.20985632e-02,  1.42043168e-02,  9.67405736e-03,\n",
       "        -1.38694383e-02,  1.35776121e-02, -8.17312207e-03, -2.06009503e-02,\n",
       "        -5.35020530e-02, -2.70801261e-02, -3.15783843e-02, -1.34880058e-02,\n",
       "        -1.22732744e-02,  1.33692762e-02, -2.69464198e-02, -1.97945610e-02,\n",
       "         4.36525568e-02, -1.64568461e-02,  2.06748210e-02, -6.19845726e-02,\n",
       "        -5.95486462e-02,  4.33932319e-02, -1.21911187e-02, -1.70001481e-02],\n",
       "       dtype=float32),\n",
       " array([[-2.13532642e-01],\n",
       "        [ 2.26620272e-01],\n",
       "        [ 2.00490803e-01],\n",
       "        [ 5.93057610e-02],\n",
       "        [ 2.18969002e-01],\n",
       "        [-2.73005273e-02],\n",
       "        [-1.04523227e-01],\n",
       "        [-9.45558399e-02],\n",
       "        [-1.53434023e-01],\n",
       "        [ 2.24725515e-01],\n",
       "        [ 2.03605637e-01],\n",
       "        [-9.43680946e-03],\n",
       "        [-2.03995742e-02],\n",
       "        [ 7.69852400e-02],\n",
       "        [-3.26145560e-01],\n",
       "        [ 4.51268703e-02],\n",
       "        [-2.95948088e-01],\n",
       "        [-4.67812449e-01],\n",
       "        [-2.87519600e-02],\n",
       "        [ 1.78112820e-01],\n",
       "        [-1.64181083e-01],\n",
       "        [-1.83138028e-02],\n",
       "        [ 1.57342017e-01],\n",
       "        [-1.56906337e-01],\n",
       "        [-9.79568586e-02],\n",
       "        [-4.71653417e-02],\n",
       "        [ 1.19431213e-01],\n",
       "        [-1.83455661e-01],\n",
       "        [-1.12216599e-01],\n",
       "        [ 3.16381492e-02],\n",
       "        [ 1.08785734e-01],\n",
       "        [ 3.25480998e-01],\n",
       "        [ 1.62208200e-01],\n",
       "        [ 1.66958347e-01],\n",
       "        [ 1.02681845e-01],\n",
       "        [-1.11224264e-01],\n",
       "        [ 3.24051012e-03],\n",
       "        [-1.47258893e-01],\n",
       "        [ 3.57570350e-02],\n",
       "        [-1.28992125e-01],\n",
       "        [-2.14740753e-01],\n",
       "        [-1.64477333e-01],\n",
       "        [ 5.35060726e-02],\n",
       "        [ 1.75055683e-01],\n",
       "        [-1.91290185e-01],\n",
       "        [ 1.77266926e-01],\n",
       "        [-2.20967218e-01],\n",
       "        [-2.58296996e-01],\n",
       "        [ 1.84965968e-01],\n",
       "        [-3.85653466e-01],\n",
       "        [-7.74007067e-02],\n",
       "        [ 3.54725197e-02],\n",
       "        [ 1.03565440e-01],\n",
       "        [-7.98695013e-02],\n",
       "        [ 9.98060554e-02],\n",
       "        [-2.02066321e-02],\n",
       "        [ 5.38182333e-02],\n",
       "        [ 4.58511934e-02],\n",
       "        [-1.32906273e-01],\n",
       "        [-1.53755978e-01],\n",
       "        [-1.25697970e-01],\n",
       "        [ 6.52047992e-02],\n",
       "        [ 8.75141025e-02],\n",
       "        [ 2.46954396e-01],\n",
       "        [ 1.17295727e-01],\n",
       "        [-1.97537810e-01],\n",
       "        [-1.07046971e-02],\n",
       "        [-3.00543960e-02],\n",
       "        [-1.50642917e-01],\n",
       "        [-1.79331258e-01],\n",
       "        [-2.01735824e-01],\n",
       "        [-1.94651723e-01],\n",
       "        [-3.42730284e-01],\n",
       "        [ 1.86764732e-01],\n",
       "        [-5.45769371e-03],\n",
       "        [ 9.72053483e-02],\n",
       "        [-1.36646837e-01],\n",
       "        [-1.83394387e-01],\n",
       "        [-7.68455267e-02],\n",
       "        [-1.19325474e-01],\n",
       "        [-2.68823773e-01],\n",
       "        [-3.29904743e-02],\n",
       "        [ 1.82206243e-01],\n",
       "        [-9.85581577e-02],\n",
       "        [ 2.29329348e-01],\n",
       "        [-7.60978237e-02],\n",
       "        [ 2.08378345e-01],\n",
       "        [-1.31802827e-01],\n",
       "        [-1.34311840e-01],\n",
       "        [ 1.18491635e-01],\n",
       "        [-3.98988947e-02],\n",
       "        [-7.42082074e-02],\n",
       "        [-1.81419477e-01],\n",
       "        [ 1.15755387e-01],\n",
       "        [ 2.31600612e-01],\n",
       "        [-3.19253318e-02],\n",
       "        [-2.61251003e-01],\n",
       "        [-3.88100483e-02],\n",
       "        [-6.76594824e-02],\n",
       "        [ 1.08514265e-04],\n",
       "        [ 1.37969926e-01],\n",
       "        [-8.70218351e-02],\n",
       "        [ 1.90337300e-02],\n",
       "        [-4.87786755e-02],\n",
       "        [ 1.76621098e-02],\n",
       "        [-2.48129591e-02],\n",
       "        [ 1.10360526e-01],\n",
       "        [ 9.67406780e-02],\n",
       "        [-3.29106063e-01],\n",
       "        [ 6.60437644e-02],\n",
       "        [-2.76054323e-01],\n",
       "        [ 1.26267269e-01],\n",
       "        [ 1.29312500e-02],\n",
       "        [-2.07240775e-01],\n",
       "        [ 1.68766126e-01],\n",
       "        [-3.03318769e-01],\n",
       "        [ 1.24565385e-01],\n",
       "        [ 1.59004182e-01],\n",
       "        [-1.74814939e-01],\n",
       "        [-2.50908315e-01],\n",
       "        [ 4.61936966e-02],\n",
       "        [ 7.30913505e-02],\n",
       "        [-1.84026003e-01],\n",
       "        [ 1.20353140e-01],\n",
       "        [-1.54817730e-01],\n",
       "        [ 1.72523007e-01],\n",
       "        [-9.09401178e-02],\n",
       "        [-1.02001585e-01]], dtype=float32),\n",
       " array([-0.37850997], dtype=float32)]"
      ]
     },
     "execution_count": 28,
     "metadata": {},
     "output_type": "execute_result"
    }
   ],
   "source": [
    "model.get_weights()"
   ]
  },
  {
   "cell_type": "code",
   "execution_count": 29,
   "id": "840cdf24",
   "metadata": {},
   "outputs": [],
   "source": [
    "# Step 2: Helper Functions\n",
    "# Function to decode reviews\n",
    "def decode_review(encoded_review):\n",
    "    return ' '.join([reverse_word_index.get(i - 3, '?') for i in encoded_review])\n",
    "\n",
    "# Function to preprocess user input\n",
    "def preprocess_text(text):\n",
    "    words = text.lower().split()\n",
    "    encoded_review = [word_index.get(word, 2) + 3 for word in words]\n",
    "    padded_review = sequence.pad_sequences([encoded_review], maxlen=500)\n",
    "    return padded_review"
   ]
  },
  {
   "cell_type": "code",
   "execution_count": 30,
   "id": "568dcbaf",
   "metadata": {},
   "outputs": [],
   "source": [
    "### Prediction  function\n",
    "\n",
    "def predict_sentiment(review):\n",
    "    preprocessed_input=preprocess_text(review)\n",
    "\n",
    "    prediction=model.predict(preprocessed_input)\n",
    "\n",
    "    sentiment = 'Positive' if prediction[0][0] > 0.5 else 'Negative'\n",
    "    \n",
    "    return sentiment, prediction[0][0]"
   ]
  },
  {
   "cell_type": "code",
   "execution_count": 31,
   "id": "d31c5660",
   "metadata": {},
   "outputs": [
    {
     "name": "stdout",
     "output_type": "stream",
     "text": [
      "\u001b[1m1/1\u001b[0m \u001b[32m━━━━━━━━━━━━━━━━━━━━\u001b[0m\u001b[37m\u001b[0m \u001b[1m0s\u001b[0m 268ms/step\n",
      "Review: This movie was fantastic! The acting was great and the plot was thrilling.\n",
      "Sentiment: Positive\n",
      "Prediction Score: 0.6455730199813843\n"
     ]
    }
   ],
   "source": [
    "#User Input and Prediction1\n",
    "example_review = \"This movie was fantastic! The acting was great and the plot was thrilling.\"\n",
    "\n",
    "sentiment,score=predict_sentiment(example_review)\n",
    "\n",
    "print(f'Review: {example_review}')\n",
    "print(f'Sentiment: {sentiment}')\n",
    "print(f'Prediction Score: {score}')"
   ]
  },
  {
   "cell_type": "code",
   "execution_count": null,
   "id": "5f6cc8f7",
   "metadata": {},
   "outputs": [],
   "source": []
  }
 ],
 "metadata": {
  "kernelspec": {
   "display_name": "Python 3",
   "language": "python",
   "name": "python3"
  },
  "language_info": {
   "codemirror_mode": {
    "name": "ipython",
    "version": 3
   },
   "file_extension": ".py",
   "mimetype": "text/x-python",
   "name": "python",
   "nbconvert_exporter": "python",
   "pygments_lexer": "ipython3",
   "version": "3.11.0"
  }
 },
 "nbformat": 4,
 "nbformat_minor": 5
}
